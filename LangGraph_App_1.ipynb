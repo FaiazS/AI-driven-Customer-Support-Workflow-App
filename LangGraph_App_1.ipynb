{
  "nbformat": 4,
  "nbformat_minor": 0,
  "metadata": {
    "colab": {
      "provenance": [],
      "authorship_tag": "ABX9TyNFG0yQmH7yEFtx7b3IYmX2",
      "include_colab_link": true
    },
    "kernelspec": {
      "name": "python3",
      "display_name": "Python 3"
    },
    "language_info": {
      "name": "python"
    }
  },
  "cells": [
    {
      "cell_type": "markdown",
      "metadata": {
        "id": "view-in-github",
        "colab_type": "text"
      },
      "source": [
        "<a href=\"https://colab.research.google.com/github/FaiazS/AI-driven-Customer-Support-Workflow-App/blob/main/LangGraph_App_1.ipynb\" target=\"_parent\"><img src=\"https://colab.research.google.com/assets/colab-badge.svg\" alt=\"Open In Colab\"/></a>"
      ]
    },
    {
      "cell_type": "code",
      "execution_count": 1,
      "metadata": {
        "colab": {
          "base_uri": "https://localhost:8080/"
        },
        "id": "3h18fjxpNsg_",
        "outputId": "d82faacc-2901-49a5-d448-1230caea9b6e"
      },
      "outputs": [
        {
          "output_type": "stream",
          "name": "stdout",
          "text": [
            "Requirement already satisfied: langgraph in /usr/local/lib/python3.11/dist-packages (0.3.18)\n",
            "Requirement already satisfied: langchain-core<0.4,>=0.1 in /usr/local/lib/python3.11/dist-packages (from langgraph) (0.3.47)\n",
            "Requirement already satisfied: langgraph-checkpoint<3.0.0,>=2.0.10 in /usr/local/lib/python3.11/dist-packages (from langgraph) (2.0.21)\n",
            "Requirement already satisfied: langgraph-prebuilt<0.2,>=0.1.1 in /usr/local/lib/python3.11/dist-packages (from langgraph) (0.1.4)\n",
            "Requirement already satisfied: langgraph-sdk<0.2.0,>=0.1.42 in /usr/local/lib/python3.11/dist-packages (from langgraph) (0.1.58)\n",
            "Requirement already satisfied: langsmith<0.4,>=0.1.125 in /usr/local/lib/python3.11/dist-packages (from langchain-core<0.4,>=0.1->langgraph) (0.3.15)\n",
            "Requirement already satisfied: tenacity!=8.4.0,<10.0.0,>=8.1.0 in /usr/local/lib/python3.11/dist-packages (from langchain-core<0.4,>=0.1->langgraph) (9.0.0)\n",
            "Requirement already satisfied: jsonpatch<2.0,>=1.33 in /usr/local/lib/python3.11/dist-packages (from langchain-core<0.4,>=0.1->langgraph) (1.33)\n",
            "Requirement already satisfied: PyYAML>=5.3 in /usr/local/lib/python3.11/dist-packages (from langchain-core<0.4,>=0.1->langgraph) (6.0.2)\n",
            "Requirement already satisfied: packaging<25,>=23.2 in /usr/local/lib/python3.11/dist-packages (from langchain-core<0.4,>=0.1->langgraph) (24.2)\n",
            "Requirement already satisfied: typing-extensions>=4.7 in /usr/local/lib/python3.11/dist-packages (from langchain-core<0.4,>=0.1->langgraph) (4.12.2)\n",
            "Requirement already satisfied: pydantic<3.0.0,>=2.5.2 in /usr/local/lib/python3.11/dist-packages (from langchain-core<0.4,>=0.1->langgraph) (2.10.6)\n",
            "Requirement already satisfied: msgpack<2.0.0,>=1.1.0 in /usr/local/lib/python3.11/dist-packages (from langgraph-checkpoint<3.0.0,>=2.0.10->langgraph) (1.1.0)\n",
            "Requirement already satisfied: httpx>=0.25.2 in /usr/local/lib/python3.11/dist-packages (from langgraph-sdk<0.2.0,>=0.1.42->langgraph) (0.28.1)\n",
            "Requirement already satisfied: orjson>=3.10.1 in /usr/local/lib/python3.11/dist-packages (from langgraph-sdk<0.2.0,>=0.1.42->langgraph) (3.10.15)\n",
            "Requirement already satisfied: anyio in /usr/local/lib/python3.11/dist-packages (from httpx>=0.25.2->langgraph-sdk<0.2.0,>=0.1.42->langgraph) (4.9.0)\n",
            "Requirement already satisfied: certifi in /usr/local/lib/python3.11/dist-packages (from httpx>=0.25.2->langgraph-sdk<0.2.0,>=0.1.42->langgraph) (2025.1.31)\n",
            "Requirement already satisfied: httpcore==1.* in /usr/local/lib/python3.11/dist-packages (from httpx>=0.25.2->langgraph-sdk<0.2.0,>=0.1.42->langgraph) (1.0.7)\n",
            "Requirement already satisfied: idna in /usr/local/lib/python3.11/dist-packages (from httpx>=0.25.2->langgraph-sdk<0.2.0,>=0.1.42->langgraph) (3.10)\n",
            "Requirement already satisfied: h11<0.15,>=0.13 in /usr/local/lib/python3.11/dist-packages (from httpcore==1.*->httpx>=0.25.2->langgraph-sdk<0.2.0,>=0.1.42->langgraph) (0.14.0)\n",
            "Requirement already satisfied: jsonpointer>=1.9 in /usr/local/lib/python3.11/dist-packages (from jsonpatch<2.0,>=1.33->langchain-core<0.4,>=0.1->langgraph) (3.0.0)\n",
            "Requirement already satisfied: requests<3,>=2 in /usr/local/lib/python3.11/dist-packages (from langsmith<0.4,>=0.1.125->langchain-core<0.4,>=0.1->langgraph) (2.32.3)\n",
            "Requirement already satisfied: requests-toolbelt<2.0.0,>=1.0.0 in /usr/local/lib/python3.11/dist-packages (from langsmith<0.4,>=0.1.125->langchain-core<0.4,>=0.1->langgraph) (1.0.0)\n",
            "Requirement already satisfied: zstandard<0.24.0,>=0.23.0 in /usr/local/lib/python3.11/dist-packages (from langsmith<0.4,>=0.1.125->langchain-core<0.4,>=0.1->langgraph) (0.23.0)\n",
            "Requirement already satisfied: annotated-types>=0.6.0 in /usr/local/lib/python3.11/dist-packages (from pydantic<3.0.0,>=2.5.2->langchain-core<0.4,>=0.1->langgraph) (0.7.0)\n",
            "Requirement already satisfied: pydantic-core==2.27.2 in /usr/local/lib/python3.11/dist-packages (from pydantic<3.0.0,>=2.5.2->langchain-core<0.4,>=0.1->langgraph) (2.27.2)\n",
            "Requirement already satisfied: charset-normalizer<4,>=2 in /usr/local/lib/python3.11/dist-packages (from requests<3,>=2->langsmith<0.4,>=0.1.125->langchain-core<0.4,>=0.1->langgraph) (3.4.1)\n",
            "Requirement already satisfied: urllib3<3,>=1.21.1 in /usr/local/lib/python3.11/dist-packages (from requests<3,>=2->langsmith<0.4,>=0.1.125->langchain-core<0.4,>=0.1->langgraph) (2.3.0)\n",
            "Requirement already satisfied: sniffio>=1.1 in /usr/local/lib/python3.11/dist-packages (from anyio->httpx>=0.25.2->langgraph-sdk<0.2.0,>=0.1.42->langgraph) (1.3.1)\n"
          ]
        }
      ],
      "source": [
        "#Installing and loading the required dependencies\n",
        "\n",
        "!pip install langgraph\n",
        "\n",
        "from langgraph.graph import Graph"
      ]
    },
    {
      "cell_type": "code",
      "source": [
        "def node_1_function(input):\n",
        "\n",
        "  x = input[\"x\"]\n",
        "  y = input[\"y\"]\n",
        "\n",
        "  return x + y\n",
        "\n",
        "def node_2_function(input):\n",
        "\n",
        "  return 2 * input"
      ],
      "metadata": {
        "id": "Tj-mMisfQftS"
      },
      "execution_count": 2,
      "outputs": []
    },
    {
      "cell_type": "code",
      "source": [
        "#Defining the Graph, Nodes and Edges\n",
        "\n",
        "workflow_graph = Graph()\n",
        "\n",
        "workflow_graph.add_node(\"node_1\", node_1_function)\n",
        "\n",
        "workflow_graph.add_node(\"node_2\", node_2_function)\n",
        "\n",
        "workflow_graph.add_edge(\"node_1\", \"node_2\")\n",
        "\n",
        "workflow_graph.set_entry_point(\"node_1\")\n",
        "\n",
        "workflow_graph.set_finish_point(\"node_2\")\n",
        "\n",
        "lang_graph_workflow_1 = workflow_graph.compile()"
      ],
      "metadata": {
        "id": "0dSC8ivBOwRI"
      },
      "execution_count": 3,
      "outputs": []
    },
    {
      "cell_type": "code",
      "source": [
        "lang_graph_workflow_1.invoke({\"x\" : 587, \"y\" : 547})"
      ],
      "metadata": {
        "colab": {
          "base_uri": "https://localhost:8080/"
        },
        "id": "Pmw4dVasR-YQ",
        "outputId": "3fc697d5-7dc4-4db9-fc8d-a1d92cc217cc"
      },
      "execution_count": 4,
      "outputs": [
        {
          "output_type": "execute_result",
          "data": {
            "text/plain": [
              "2268"
            ]
          },
          "metadata": {},
          "execution_count": 4
        }
      ]
    },
    {
      "cell_type": "code",
      "source": [
        "#Displaying or Visualizing the Graph Structured Workflow\n",
        "\n",
        "from IPython.display import Image, display\n",
        "\n",
        "try:\n",
        "\n",
        "  display(Image(lang_graph_workflow_1.get_graph().draw_mermaid_png()))\n",
        "\n",
        "except:\n",
        "\n",
        "  pass"
      ],
      "metadata": {
        "colab": {
          "base_uri": "https://localhost:8080/",
          "height": 350
        },
        "id": "dap9aYlKUXDt",
        "outputId": "5238d85d-56c1-4161-bf32-3ed35486a887"
      },
      "execution_count": 5,
      "outputs": [
        {
          "output_type": "display_data",
          "data": {
            "image/png": "[encoded data removed]",
            "text/plain": [
              "<IPython.core.display.Image object>"
            ]
          },
          "metadata": {}
        }
      ]
    },
    {
      "cell_type": "code",
      "source": [
        "#Installing required dependencies\n",
        "\n",
        "!pip install langchain\n",
        "\n",
        "!pip install langchain_core\n",
        "\n",
        "!pip install langchain_groq\n",
        "\n",
        "!pip install langchain_community\n",
        "\n",
        "!pip install langgraph"
      ],
      "metadata": {
        "id": "U0U1hORlWz78",
        "colab": {
          "base_uri": "https://localhost:8080/"
        },
        "outputId": "18b12033-400d-4a65-a7c2-59cba160e1a9"
      },
      "execution_count": 1,
      "outputs": [
        {
          "output_type": "stream",
          "name": "stdout",
          "text": [
            "Requirement already satisfied: langchain in /usr/local/lib/python3.11/dist-packages (0.3.21)\n",
            "Requirement already satisfied: langchain-core<1.0.0,>=0.3.45 in /usr/local/lib/python3.11/dist-packages (from langchain) (0.3.48)\n",
            "Requirement already satisfied: langchain-text-splitters<1.0.0,>=0.3.7 in /usr/local/lib/python3.11/dist-packages (from langchain) (0.3.7)\n",
            "Requirement already satisfied: langsmith<0.4,>=0.1.17 in /usr/local/lib/python3.11/dist-packages (from langchain) (0.3.15)\n",
            "Requirement already satisfied: pydantic<3.0.0,>=2.7.4 in /usr/local/lib/python3.11/dist-packages (from langchain) (2.10.6)\n",
            "Requirement already satisfied: SQLAlchemy<3,>=1.4 in /usr/local/lib/python3.11/dist-packages (from langchain) (2.0.39)\n",
            "Requirement already satisfied: requests<3,>=2 in /usr/local/lib/python3.11/dist-packages (from langchain) (2.32.3)\n",
            "Requirement already satisfied: PyYAML>=5.3 in /usr/local/lib/python3.11/dist-packages (from langchain) (6.0.2)\n",
            "Requirement already satisfied: tenacity!=8.4.0,<10.0.0,>=8.1.0 in /usr/local/lib/python3.11/dist-packages (from langchain-core<1.0.0,>=0.3.45->langchain) (9.0.0)\n",
            "Requirement already satisfied: jsonpatch<2.0,>=1.33 in /usr/local/lib/python3.11/dist-packages (from langchain-core<1.0.0,>=0.3.45->langchain) (1.33)\n",
            "Requirement already satisfied: packaging<25,>=23.2 in /usr/local/lib/python3.11/dist-packages (from langchain-core<1.0.0,>=0.3.45->langchain) (24.2)\n",
            "Requirement already satisfied: typing-extensions>=4.7 in /usr/local/lib/python3.11/dist-packages (from langchain-core<1.0.0,>=0.3.45->langchain) (4.12.2)\n",
            "Requirement already satisfied: httpx<1,>=0.23.0 in /usr/local/lib/python3.11/dist-packages (from langsmith<0.4,>=0.1.17->langchain) (0.28.1)\n",
            "Requirement already satisfied: orjson<4.0.0,>=3.9.14 in /usr/local/lib/python3.11/dist-packages (from langsmith<0.4,>=0.1.17->langchain) (3.10.15)\n",
            "Requirement already satisfied: requests-toolbelt<2.0.0,>=1.0.0 in /usr/local/lib/python3.11/dist-packages (from langsmith<0.4,>=0.1.17->langchain) (1.0.0)\n",
            "Requirement already satisfied: zstandard<0.24.0,>=0.23.0 in /usr/local/lib/python3.11/dist-packages (from langsmith<0.4,>=0.1.17->langchain) (0.23.0)\n",
            "Requirement already satisfied: annotated-types>=0.6.0 in /usr/local/lib/python3.11/dist-packages (from pydantic<3.0.0,>=2.7.4->langchain) (0.7.0)\n",
            "Requirement already satisfied: pydantic-core==2.27.2 in /usr/local/lib/python3.11/dist-packages (from pydantic<3.0.0,>=2.7.4->langchain) (2.27.2)\n",
            "Requirement already satisfied: charset-normalizer<4,>=2 in /usr/local/lib/python3.11/dist-packages (from requests<3,>=2->langchain) (3.4.1)\n",
            "Requirement already satisfied: idna<4,>=2.5 in /usr/local/lib/python3.11/dist-packages (from requests<3,>=2->langchain) (3.10)\n",
            "Requirement already satisfied: urllib3<3,>=1.21.1 in /usr/local/lib/python3.11/dist-packages (from requests<3,>=2->langchain) (2.3.0)\n",
            "Requirement already satisfied: certifi>=2017.4.17 in /usr/local/lib/python3.11/dist-packages (from requests<3,>=2->langchain) (2025.1.31)\n",
            "Requirement already satisfied: greenlet!=0.4.17 in /usr/local/lib/python3.11/dist-packages (from SQLAlchemy<3,>=1.4->langchain) (3.1.1)\n",
            "Requirement already satisfied: anyio in /usr/local/lib/python3.11/dist-packages (from httpx<1,>=0.23.0->langsmith<0.4,>=0.1.17->langchain) (4.9.0)\n",
            "Requirement already satisfied: httpcore==1.* in /usr/local/lib/python3.11/dist-packages (from httpx<1,>=0.23.0->langsmith<0.4,>=0.1.17->langchain) (1.0.7)\n",
            "Requirement already satisfied: h11<0.15,>=0.13 in /usr/local/lib/python3.11/dist-packages (from httpcore==1.*->httpx<1,>=0.23.0->langsmith<0.4,>=0.1.17->langchain) (0.14.0)\n",
            "Requirement already satisfied: jsonpointer>=1.9 in /usr/local/lib/python3.11/dist-packages (from jsonpatch<2.0,>=1.33->langchain-core<1.0.0,>=0.3.45->langchain) (3.0.0)\n",
            "Requirement already satisfied: sniffio>=1.1 in /usr/local/lib/python3.11/dist-packages (from anyio->httpx<1,>=0.23.0->langsmith<0.4,>=0.1.17->langchain) (1.3.1)\n",
            "Requirement already satisfied: langchain_core in /usr/local/lib/python3.11/dist-packages (0.3.48)\n",
            "Requirement already satisfied: langsmith<0.4,>=0.1.125 in /usr/local/lib/python3.11/dist-packages (from langchain_core) (0.3.15)\n",
            "Requirement already satisfied: tenacity!=8.4.0,<10.0.0,>=8.1.0 in /usr/local/lib/python3.11/dist-packages (from langchain_core) (9.0.0)\n",
            "Requirement already satisfied: jsonpatch<2.0,>=1.33 in /usr/local/lib/python3.11/dist-packages (from langchain_core) (1.33)\n",
            "Requirement already satisfied: PyYAML>=5.3 in /usr/local/lib/python3.11/dist-packages (from langchain_core) (6.0.2)\n",
            "Requirement already satisfied: packaging<25,>=23.2 in /usr/local/lib/python3.11/dist-packages (from langchain_core) (24.2)\n",
            "Requirement already satisfied: typing-extensions>=4.7 in /usr/local/lib/python3.11/dist-packages (from langchain_core) (4.12.2)\n",
            "Requirement already satisfied: pydantic<3.0.0,>=2.5.2 in /usr/local/lib/python3.11/dist-packages (from langchain_core) (2.10.6)\n",
            "Requirement already satisfied: jsonpointer>=1.9 in /usr/local/lib/python3.11/dist-packages (from jsonpatch<2.0,>=1.33->langchain_core) (3.0.0)\n",
            "Requirement already satisfied: httpx<1,>=0.23.0 in /usr/local/lib/python3.11/dist-packages (from langsmith<0.4,>=0.1.125->langchain_core) (0.28.1)\n",
            "Requirement already satisfied: orjson<4.0.0,>=3.9.14 in /usr/local/lib/python3.11/dist-packages (from langsmith<0.4,>=0.1.125->langchain_core) (3.10.15)\n",
            "Requirement already satisfied: requests<3,>=2 in /usr/local/lib/python3.11/dist-packages (from langsmith<0.4,>=0.1.125->langchain_core) (2.32.3)\n",
            "Requirement already satisfied: requests-toolbelt<2.0.0,>=1.0.0 in /usr/local/lib/python3.11/dist-packages (from langsmith<0.4,>=0.1.125->langchain_core) (1.0.0)\n",
            "Requirement already satisfied: zstandard<0.24.0,>=0.23.0 in /usr/local/lib/python3.11/dist-packages (from langsmith<0.4,>=0.1.125->langchain_core) (0.23.0)\n",
            "Requirement already satisfied: annotated-types>=0.6.0 in /usr/local/lib/python3.11/dist-packages (from pydantic<3.0.0,>=2.5.2->langchain_core) (0.7.0)\n",
            "Requirement already satisfied: pydantic-core==2.27.2 in /usr/local/lib/python3.11/dist-packages (from pydantic<3.0.0,>=2.5.2->langchain_core) (2.27.2)\n",
            "Requirement already satisfied: anyio in /usr/local/lib/python3.11/dist-packages (from httpx<1,>=0.23.0->langsmith<0.4,>=0.1.125->langchain_core) (4.9.0)\n",
            "Requirement already satisfied: certifi in /usr/local/lib/python3.11/dist-packages (from httpx<1,>=0.23.0->langsmith<0.4,>=0.1.125->langchain_core) (2025.1.31)\n",
            "Requirement already satisfied: httpcore==1.* in /usr/local/lib/python3.11/dist-packages (from httpx<1,>=0.23.0->langsmith<0.4,>=0.1.125->langchain_core) (1.0.7)\n",
            "Requirement already satisfied: idna in /usr/local/lib/python3.11/dist-packages (from httpx<1,>=0.23.0->langsmith<0.4,>=0.1.125->langchain_core) (3.10)\n",
            "Requirement already satisfied: h11<0.15,>=0.13 in /usr/local/lib/python3.11/dist-packages (from httpcore==1.*->httpx<1,>=0.23.0->langsmith<0.4,>=0.1.125->langchain_core) (0.14.0)\n",
            "Requirement already satisfied: charset-normalizer<4,>=2 in /usr/local/lib/python3.11/dist-packages (from requests<3,>=2->langsmith<0.4,>=0.1.125->langchain_core) (3.4.1)\n",
            "Requirement already satisfied: urllib3<3,>=1.21.1 in /usr/local/lib/python3.11/dist-packages (from requests<3,>=2->langsmith<0.4,>=0.1.125->langchain_core) (2.3.0)\n",
            "Requirement already satisfied: sniffio>=1.1 in /usr/local/lib/python3.11/dist-packages (from anyio->httpx<1,>=0.23.0->langsmith<0.4,>=0.1.125->langchain_core) (1.3.1)\n",
            "Requirement already satisfied: langchain_groq in /usr/local/lib/python3.11/dist-packages (0.3.1)\n",
            "Requirement already satisfied: langchain-core<1.0.0,>=0.3.47 in /usr/local/lib/python3.11/dist-packages (from langchain_groq) (0.3.48)\n",
            "Requirement already satisfied: groq<1,>=0.4.1 in /usr/local/lib/python3.11/dist-packages (from langchain_groq) (0.20.0)\n",
            "Requirement already satisfied: anyio<5,>=3.5.0 in /usr/local/lib/python3.11/dist-packages (from groq<1,>=0.4.1->langchain_groq) (4.9.0)\n",
            "Requirement already satisfied: distro<2,>=1.7.0 in /usr/local/lib/python3.11/dist-packages (from groq<1,>=0.4.1->langchain_groq) (1.9.0)\n",
            "Requirement already satisfied: httpx<1,>=0.23.0 in /usr/local/lib/python3.11/dist-packages (from groq<1,>=0.4.1->langchain_groq) (0.28.1)\n",
            "Requirement already satisfied: pydantic<3,>=1.9.0 in /usr/local/lib/python3.11/dist-packages (from groq<1,>=0.4.1->langchain_groq) (2.10.6)\n",
            "Requirement already satisfied: sniffio in /usr/local/lib/python3.11/dist-packages (from groq<1,>=0.4.1->langchain_groq) (1.3.1)\n",
            "Requirement already satisfied: typing-extensions<5,>=4.10 in /usr/local/lib/python3.11/dist-packages (from groq<1,>=0.4.1->langchain_groq) (4.12.2)\n",
            "Requirement already satisfied: langsmith<0.4,>=0.1.125 in /usr/local/lib/python3.11/dist-packages (from langchain-core<1.0.0,>=0.3.47->langchain_groq) (0.3.15)\n",
            "Requirement already satisfied: tenacity!=8.4.0,<10.0.0,>=8.1.0 in /usr/local/lib/python3.11/dist-packages (from langchain-core<1.0.0,>=0.3.47->langchain_groq) (9.0.0)\n",
            "Requirement already satisfied: jsonpatch<2.0,>=1.33 in /usr/local/lib/python3.11/dist-packages (from langchain-core<1.0.0,>=0.3.47->langchain_groq) (1.33)\n",
            "Requirement already satisfied: PyYAML>=5.3 in /usr/local/lib/python3.11/dist-packages (from langchain-core<1.0.0,>=0.3.47->langchain_groq) (6.0.2)\n",
            "Requirement already satisfied: packaging<25,>=23.2 in /usr/local/lib/python3.11/dist-packages (from langchain-core<1.0.0,>=0.3.47->langchain_groq) (24.2)\n",
            "Requirement already satisfied: idna>=2.8 in /usr/local/lib/python3.11/dist-packages (from anyio<5,>=3.5.0->groq<1,>=0.4.1->langchain_groq) (3.10)\n",
            "Requirement already satisfied: certifi in /usr/local/lib/python3.11/dist-packages (from httpx<1,>=0.23.0->groq<1,>=0.4.1->langchain_groq) (2025.1.31)\n",
            "Requirement already satisfied: httpcore==1.* in /usr/local/lib/python3.11/dist-packages (from httpx<1,>=0.23.0->groq<1,>=0.4.1->langchain_groq) (1.0.7)\n",
            "Requirement already satisfied: h11<0.15,>=0.13 in /usr/local/lib/python3.11/dist-packages (from httpcore==1.*->httpx<1,>=0.23.0->groq<1,>=0.4.1->langchain_groq) (0.14.0)\n",
            "Requirement already satisfied: jsonpointer>=1.9 in /usr/local/lib/python3.11/dist-packages (from jsonpatch<2.0,>=1.33->langchain-core<1.0.0,>=0.3.47->langchain_groq) (3.0.0)\n",
            "Requirement already satisfied: orjson<4.0.0,>=3.9.14 in /usr/local/lib/python3.11/dist-packages (from langsmith<0.4,>=0.1.125->langchain-core<1.0.0,>=0.3.47->langchain_groq) (3.10.15)\n",
            "Requirement already satisfied: requests<3,>=2 in /usr/local/lib/python3.11/dist-packages (from langsmith<0.4,>=0.1.125->langchain-core<1.0.0,>=0.3.47->langchain_groq) (2.32.3)\n",
            "Requirement already satisfied: requests-toolbelt<2.0.0,>=1.0.0 in /usr/local/lib/python3.11/dist-packages (from langsmith<0.4,>=0.1.125->langchain-core<1.0.0,>=0.3.47->langchain_groq) (1.0.0)\n",
            "Requirement already satisfied: zstandard<0.24.0,>=0.23.0 in /usr/local/lib/python3.11/dist-packages (from langsmith<0.4,>=0.1.125->langchain-core<1.0.0,>=0.3.47->langchain_groq) (0.23.0)\n",
            "Requirement already satisfied: annotated-types>=0.6.0 in /usr/local/lib/python3.11/dist-packages (from pydantic<3,>=1.9.0->groq<1,>=0.4.1->langchain_groq) (0.7.0)\n",
            "Requirement already satisfied: pydantic-core==2.27.2 in /usr/local/lib/python3.11/dist-packages (from pydantic<3,>=1.9.0->groq<1,>=0.4.1->langchain_groq) (2.27.2)\n",
            "Requirement already satisfied: charset-normalizer<4,>=2 in /usr/local/lib/python3.11/dist-packages (from requests<3,>=2->langsmith<0.4,>=0.1.125->langchain-core<1.0.0,>=0.3.47->langchain_groq) (3.4.1)\n",
            "Requirement already satisfied: urllib3<3,>=1.21.1 in /usr/local/lib/python3.11/dist-packages (from requests<3,>=2->langsmith<0.4,>=0.1.125->langchain-core<1.0.0,>=0.3.47->langchain_groq) (2.3.0)\n",
            "Requirement already satisfied: langchain_community in /usr/local/lib/python3.11/dist-packages (0.3.20)\n",
            "Requirement already satisfied: langchain-core<1.0.0,>=0.3.45 in /usr/local/lib/python3.11/dist-packages (from langchain_community) (0.3.48)\n",
            "Requirement already satisfied: langchain<1.0.0,>=0.3.21 in /usr/local/lib/python3.11/dist-packages (from langchain_community) (0.3.21)\n",
            "Requirement already satisfied: SQLAlchemy<3,>=1.4 in /usr/local/lib/python3.11/dist-packages (from langchain_community) (2.0.39)\n",
            "Requirement already satisfied: requests<3,>=2 in /usr/local/lib/python3.11/dist-packages (from langchain_community) (2.32.3)\n",
            "Requirement already satisfied: PyYAML>=5.3 in /usr/local/lib/python3.11/dist-packages (from langchain_community) (6.0.2)\n",
            "Requirement already satisfied: aiohttp<4.0.0,>=3.8.3 in /usr/local/lib/python3.11/dist-packages (from langchain_community) (3.11.14)\n",
            "Requirement already satisfied: tenacity!=8.4.0,<10,>=8.1.0 in /usr/local/lib/python3.11/dist-packages (from langchain_community) (9.0.0)\n",
            "Requirement already satisfied: dataclasses-json<0.7,>=0.5.7 in /usr/local/lib/python3.11/dist-packages (from langchain_community) (0.6.7)\n",
            "Requirement already satisfied: pydantic-settings<3.0.0,>=2.4.0 in /usr/local/lib/python3.11/dist-packages (from langchain_community) (2.8.1)\n",
            "Requirement already satisfied: langsmith<0.4,>=0.1.125 in /usr/local/lib/python3.11/dist-packages (from langchain_community) (0.3.15)\n",
            "Requirement already satisfied: httpx-sse<1.0.0,>=0.4.0 in /usr/local/lib/python3.11/dist-packages (from langchain_community) (0.4.0)\n",
            "Requirement already satisfied: numpy<3,>=1.26.2 in /usr/local/lib/python3.11/dist-packages (from langchain_community) (2.0.2)\n",
            "Requirement already satisfied: aiohappyeyeballs>=2.3.0 in /usr/local/lib/python3.11/dist-packages (from aiohttp<4.0.0,>=3.8.3->langchain_community) (2.6.1)\n",
            "Requirement already satisfied: aiosignal>=1.1.2 in /usr/local/lib/python3.11/dist-packages (from aiohttp<4.0.0,>=3.8.3->langchain_community) (1.3.2)\n",
            "Requirement already satisfied: attrs>=17.3.0 in /usr/local/lib/python3.11/dist-packages (from aiohttp<4.0.0,>=3.8.3->langchain_community) (25.3.0)\n",
            "Requirement already satisfied: frozenlist>=1.1.1 in /usr/local/lib/python3.11/dist-packages (from aiohttp<4.0.0,>=3.8.3->langchain_community) (1.5.0)\n",
            "Requirement already satisfied: multidict<7.0,>=4.5 in /usr/local/lib/python3.11/dist-packages (from aiohttp<4.0.0,>=3.8.3->langchain_community) (6.2.0)\n",
            "Requirement already satisfied: propcache>=0.2.0 in /usr/local/lib/python3.11/dist-packages (from aiohttp<4.0.0,>=3.8.3->langchain_community) (0.3.0)\n",
            "Requirement already satisfied: yarl<2.0,>=1.17.0 in /usr/local/lib/python3.11/dist-packages (from aiohttp<4.0.0,>=3.8.3->langchain_community) (1.18.3)\n",
            "Requirement already satisfied: marshmallow<4.0.0,>=3.18.0 in /usr/local/lib/python3.11/dist-packages (from dataclasses-json<0.7,>=0.5.7->langchain_community) (3.26.1)\n",
            "Requirement already satisfied: typing-inspect<1,>=0.4.0 in /usr/local/lib/python3.11/dist-packages (from dataclasses-json<0.7,>=0.5.7->langchain_community) (0.9.0)\n",
            "Requirement already satisfied: langchain-text-splitters<1.0.0,>=0.3.7 in /usr/local/lib/python3.11/dist-packages (from langchain<1.0.0,>=0.3.21->langchain_community) (0.3.7)\n",
            "Requirement already satisfied: pydantic<3.0.0,>=2.7.4 in /usr/local/lib/python3.11/dist-packages (from langchain<1.0.0,>=0.3.21->langchain_community) (2.10.6)\n",
            "Requirement already satisfied: jsonpatch<2.0,>=1.33 in /usr/local/lib/python3.11/dist-packages (from langchain-core<1.0.0,>=0.3.45->langchain_community) (1.33)\n",
            "Requirement already satisfied: packaging<25,>=23.2 in /usr/local/lib/python3.11/dist-packages (from langchain-core<1.0.0,>=0.3.45->langchain_community) (24.2)\n",
            "Requirement already satisfied: typing-extensions>=4.7 in /usr/local/lib/python3.11/dist-packages (from langchain-core<1.0.0,>=0.3.45->langchain_community) (4.12.2)\n",
            "Requirement already satisfied: httpx<1,>=0.23.0 in /usr/local/lib/python3.11/dist-packages (from langsmith<0.4,>=0.1.125->langchain_community) (0.28.1)\n",
            "Requirement already satisfied: orjson<4.0.0,>=3.9.14 in /usr/local/lib/python3.11/dist-packages (from langsmith<0.4,>=0.1.125->langchain_community) (3.10.15)\n",
            "Requirement already satisfied: requests-toolbelt<2.0.0,>=1.0.0 in /usr/local/lib/python3.11/dist-packages (from langsmith<0.4,>=0.1.125->langchain_community) (1.0.0)\n",
            "Requirement already satisfied: zstandard<0.24.0,>=0.23.0 in /usr/local/lib/python3.11/dist-packages (from langsmith<0.4,>=0.1.125->langchain_community) (0.23.0)\n",
            "Requirement already satisfied: python-dotenv>=0.21.0 in /usr/local/lib/python3.11/dist-packages (from pydantic-settings<3.0.0,>=2.4.0->langchain_community) (1.0.1)\n",
            "Requirement already satisfied: charset-normalizer<4,>=2 in /usr/local/lib/python3.11/dist-packages (from requests<3,>=2->langchain_community) (3.4.1)\n",
            "Requirement already satisfied: idna<4,>=2.5 in /usr/local/lib/python3.11/dist-packages (from requests<3,>=2->langchain_community) (3.10)\n",
            "Requirement already satisfied: urllib3<3,>=1.21.1 in /usr/local/lib/python3.11/dist-packages (from requests<3,>=2->langchain_community) (2.3.0)\n",
            "Requirement already satisfied: certifi>=2017.4.17 in /usr/local/lib/python3.11/dist-packages (from requests<3,>=2->langchain_community) (2025.1.31)\n",
            "Requirement already satisfied: greenlet!=0.4.17 in /usr/local/lib/python3.11/dist-packages (from SQLAlchemy<3,>=1.4->langchain_community) (3.1.1)\n",
            "Requirement already satisfied: anyio in /usr/local/lib/python3.11/dist-packages (from httpx<1,>=0.23.0->langsmith<0.4,>=0.1.125->langchain_community) (4.9.0)\n",
            "Requirement already satisfied: httpcore==1.* in /usr/local/lib/python3.11/dist-packages (from httpx<1,>=0.23.0->langsmith<0.4,>=0.1.125->langchain_community) (1.0.7)\n",
            "Requirement already satisfied: h11<0.15,>=0.13 in /usr/local/lib/python3.11/dist-packages (from httpcore==1.*->httpx<1,>=0.23.0->langsmith<0.4,>=0.1.125->langchain_community) (0.14.0)\n",
            "Requirement already satisfied: jsonpointer>=1.9 in /usr/local/lib/python3.11/dist-packages (from jsonpatch<2.0,>=1.33->langchain-core<1.0.0,>=0.3.45->langchain_community) (3.0.0)\n",
            "Requirement already satisfied: annotated-types>=0.6.0 in /usr/local/lib/python3.11/dist-packages (from pydantic<3.0.0,>=2.7.4->langchain<1.0.0,>=0.3.21->langchain_community) (0.7.0)\n",
            "Requirement already satisfied: pydantic-core==2.27.2 in /usr/local/lib/python3.11/dist-packages (from pydantic<3.0.0,>=2.7.4->langchain<1.0.0,>=0.3.21->langchain_community) (2.27.2)\n",
            "Requirement already satisfied: mypy-extensions>=0.3.0 in /usr/local/lib/python3.11/dist-packages (from typing-inspect<1,>=0.4.0->dataclasses-json<0.7,>=0.5.7->langchain_community) (1.0.0)\n",
            "Requirement already satisfied: sniffio>=1.1 in /usr/local/lib/python3.11/dist-packages (from anyio->httpx<1,>=0.23.0->langsmith<0.4,>=0.1.125->langchain_community) (1.3.1)\n",
            "Requirement already satisfied: langgraph in /usr/local/lib/python3.11/dist-packages (0.3.18)\n",
            "Requirement already satisfied: langchain-core<0.4,>=0.1 in /usr/local/lib/python3.11/dist-packages (from langgraph) (0.3.48)\n",
            "Requirement already satisfied: langgraph-checkpoint<3.0.0,>=2.0.10 in /usr/local/lib/python3.11/dist-packages (from langgraph) (2.0.21)\n",
            "Requirement already satisfied: langgraph-prebuilt<0.2,>=0.1.1 in /usr/local/lib/python3.11/dist-packages (from langgraph) (0.1.4)\n",
            "Requirement already satisfied: langgraph-sdk<0.2.0,>=0.1.42 in /usr/local/lib/python3.11/dist-packages (from langgraph) (0.1.58)\n",
            "Requirement already satisfied: langsmith<0.4,>=0.1.125 in /usr/local/lib/python3.11/dist-packages (from langchain-core<0.4,>=0.1->langgraph) (0.3.15)\n",
            "Requirement already satisfied: tenacity!=8.4.0,<10.0.0,>=8.1.0 in /usr/local/lib/python3.11/dist-packages (from langchain-core<0.4,>=0.1->langgraph) (9.0.0)\n",
            "Requirement already satisfied: jsonpatch<2.0,>=1.33 in /usr/local/lib/python3.11/dist-packages (from langchain-core<0.4,>=0.1->langgraph) (1.33)\n",
            "Requirement already satisfied: PyYAML>=5.3 in /usr/local/lib/python3.11/dist-packages (from langchain-core<0.4,>=0.1->langgraph) (6.0.2)\n",
            "Requirement already satisfied: packaging<25,>=23.2 in /usr/local/lib/python3.11/dist-packages (from langchain-core<0.4,>=0.1->langgraph) (24.2)\n",
            "Requirement already satisfied: typing-extensions>=4.7 in /usr/local/lib/python3.11/dist-packages (from langchain-core<0.4,>=0.1->langgraph) (4.12.2)\n",
            "Requirement already satisfied: pydantic<3.0.0,>=2.5.2 in /usr/local/lib/python3.11/dist-packages (from langchain-core<0.4,>=0.1->langgraph) (2.10.6)\n",
            "Requirement already satisfied: msgpack<2.0.0,>=1.1.0 in /usr/local/lib/python3.11/dist-packages (from langgraph-checkpoint<3.0.0,>=2.0.10->langgraph) (1.1.0)\n",
            "Requirement already satisfied: httpx>=0.25.2 in /usr/local/lib/python3.11/dist-packages (from langgraph-sdk<0.2.0,>=0.1.42->langgraph) (0.28.1)\n",
            "Requirement already satisfied: orjson>=3.10.1 in /usr/local/lib/python3.11/dist-packages (from langgraph-sdk<0.2.0,>=0.1.42->langgraph) (3.10.15)\n",
            "Requirement already satisfied: anyio in /usr/local/lib/python3.11/dist-packages (from httpx>=0.25.2->langgraph-sdk<0.2.0,>=0.1.42->langgraph) (4.9.0)\n",
            "Requirement already satisfied: certifi in /usr/local/lib/python3.11/dist-packages (from httpx>=0.25.2->langgraph-sdk<0.2.0,>=0.1.42->langgraph) (2025.1.31)\n",
            "Requirement already satisfied: httpcore==1.* in /usr/local/lib/python3.11/dist-packages (from httpx>=0.25.2->langgraph-sdk<0.2.0,>=0.1.42->langgraph) (1.0.7)\n",
            "Requirement already satisfied: idna in /usr/local/lib/python3.11/dist-packages (from httpx>=0.25.2->langgraph-sdk<0.2.0,>=0.1.42->langgraph) (3.10)\n",
            "Requirement already satisfied: h11<0.15,>=0.13 in /usr/local/lib/python3.11/dist-packages (from httpcore==1.*->httpx>=0.25.2->langgraph-sdk<0.2.0,>=0.1.42->langgraph) (0.14.0)\n",
            "Requirement already satisfied: jsonpointer>=1.9 in /usr/local/lib/python3.11/dist-packages (from jsonpatch<2.0,>=1.33->langchain-core<0.4,>=0.1->langgraph) (3.0.0)\n",
            "Requirement already satisfied: requests<3,>=2 in /usr/local/lib/python3.11/dist-packages (from langsmith<0.4,>=0.1.125->langchain-core<0.4,>=0.1->langgraph) (2.32.3)\n",
            "Requirement already satisfied: requests-toolbelt<2.0.0,>=1.0.0 in /usr/local/lib/python3.11/dist-packages (from langsmith<0.4,>=0.1.125->langchain-core<0.4,>=0.1->langgraph) (1.0.0)\n",
            "Requirement already satisfied: zstandard<0.24.0,>=0.23.0 in /usr/local/lib/python3.11/dist-packages (from langsmith<0.4,>=0.1.125->langchain-core<0.4,>=0.1->langgraph) (0.23.0)\n",
            "Requirement already satisfied: annotated-types>=0.6.0 in /usr/local/lib/python3.11/dist-packages (from pydantic<3.0.0,>=2.5.2->langchain-core<0.4,>=0.1->langgraph) (0.7.0)\n",
            "Requirement already satisfied: pydantic-core==2.27.2 in /usr/local/lib/python3.11/dist-packages (from pydantic<3.0.0,>=2.5.2->langchain-core<0.4,>=0.1->langgraph) (2.27.2)\n",
            "Requirement already satisfied: charset-normalizer<4,>=2 in /usr/local/lib/python3.11/dist-packages (from requests<3,>=2->langsmith<0.4,>=0.1.125->langchain-core<0.4,>=0.1->langgraph) (3.4.1)\n",
            "Requirement already satisfied: urllib3<3,>=1.21.1 in /usr/local/lib/python3.11/dist-packages (from requests<3,>=2->langsmith<0.4,>=0.1.125->langchain-core<0.4,>=0.1->langgraph) (2.3.0)\n",
            "Requirement already satisfied: sniffio>=1.1 in /usr/local/lib/python3.11/dist-packages (from anyio->httpx>=0.25.2->langgraph-sdk<0.2.0,>=0.1.42->langgraph) (1.3.1)\n"
          ]
        }
      ]
    },
    {
      "cell_type": "markdown",
      "source": [
        "**Customer Query Handling WorkFlow - Customer Support Agent App**"
      ],
      "metadata": {
        "id": "DiY-2PAep26R"
      }
    },
    {
      "cell_type": "code",
      "source": [
        "from typing_extensions import TypedDict, Dict\n",
        "\n",
        "from langgraph.graph import StateGraph, END\n",
        "\n",
        "from langchain_core.prompts import ChatPromptTemplate\n",
        "\n",
        "from langchain_core.runnables.graph import MermaidDrawMethod\n",
        "\n",
        "from IPython.display import display, Image"
      ],
      "metadata": {
        "id": "WHvaxnn7p6OZ"
      },
      "execution_count": 19,
      "outputs": []
    },
    {
      "cell_type": "code",
      "source": [
        "class State(TypedDict):\n",
        "\n",
        "  query : str\n",
        "\n",
        "  category : str\n",
        "\n",
        "  sentiment : str\n",
        "\n",
        "  response : str"
      ],
      "metadata": {
        "id": "TRLBt7CEsAdm"
      },
      "execution_count": 20,
      "outputs": []
    },
    {
      "cell_type": "code",
      "source": [
        "!pip uninstall -y langchain langchain_core langchain_groq"
      ],
      "metadata": {
        "colab": {
          "base_uri": "https://localhost:8080/"
        },
        "id": "A63HGr3KgnF8",
        "outputId": "1a6a11dc-e472-4e36-895b-55ad949d3aab"
      },
      "execution_count": 21,
      "outputs": [
        {
          "output_type": "stream",
          "name": "stdout",
          "text": [
            "Found existing installation: langchain 0.3.21\n",
            "Uninstalling langchain-0.3.21:\n",
            "  Successfully uninstalled langchain-0.3.21\n",
            "Found existing installation: langchain-core 0.3.48\n",
            "Uninstalling langchain-core-0.3.48:\n",
            "  Successfully uninstalled langchain-core-0.3.48\n",
            "Found existing installation: langchain-groq 0.3.1\n",
            "Uninstalling langchain-groq-0.3.1:\n",
            "  Successfully uninstalled langchain-groq-0.3.1\n"
          ]
        }
      ]
    },
    {
      "cell_type": "code",
      "source": [
        "!pip install --upgrade langchain langchain_core langchain_groq"
      ],
      "metadata": {
        "colab": {
          "base_uri": "https://localhost:8080/"
        },
        "id": "RcZszYAWg3ed",
        "outputId": "2f45f84b-4acc-4eb1-a78c-5efaa64422d4"
      },
      "execution_count": 22,
      "outputs": [
        {
          "output_type": "stream",
          "name": "stdout",
          "text": [
            "Collecting langchain\n",
            "  Using cached langchain-0.3.21-py3-none-any.whl.metadata (7.8 kB)\n",
            "Collecting langchain_core\n",
            "  Using cached langchain_core-0.3.48-py3-none-any.whl.metadata (5.9 kB)\n",
            "Collecting langchain_groq\n",
            "  Using cached langchain_groq-0.3.1-py3-none-any.whl.metadata (2.6 kB)\n",
            "Requirement already satisfied: langchain-text-splitters<1.0.0,>=0.3.7 in /usr/local/lib/python3.11/dist-packages (from langchain) (0.3.7)\n",
            "Requirement already satisfied: langsmith<0.4,>=0.1.17 in /usr/local/lib/python3.11/dist-packages (from langchain) (0.3.15)\n",
            "Requirement already satisfied: pydantic<3.0.0,>=2.7.4 in /usr/local/lib/python3.11/dist-packages (from langchain) (2.10.6)\n",
            "Requirement already satisfied: SQLAlchemy<3,>=1.4 in /usr/local/lib/python3.11/dist-packages (from langchain) (2.0.39)\n",
            "Requirement already satisfied: requests<3,>=2 in /usr/local/lib/python3.11/dist-packages (from langchain) (2.32.3)\n",
            "Requirement already satisfied: PyYAML>=5.3 in /usr/local/lib/python3.11/dist-packages (from langchain) (6.0.2)\n",
            "Requirement already satisfied: tenacity!=8.4.0,<10.0.0,>=8.1.0 in /usr/local/lib/python3.11/dist-packages (from langchain_core) (9.0.0)\n",
            "Requirement already satisfied: jsonpatch<2.0,>=1.33 in /usr/local/lib/python3.11/dist-packages (from langchain_core) (1.33)\n",
            "Requirement already satisfied: packaging<25,>=23.2 in /usr/local/lib/python3.11/dist-packages (from langchain_core) (24.2)\n",
            "Requirement already satisfied: typing-extensions>=4.7 in /usr/local/lib/python3.11/dist-packages (from langchain_core) (4.12.2)\n",
            "Requirement already satisfied: groq<1,>=0.4.1 in /usr/local/lib/python3.11/dist-packages (from langchain_groq) (0.20.0)\n",
            "Requirement already satisfied: anyio<5,>=3.5.0 in /usr/local/lib/python3.11/dist-packages (from groq<1,>=0.4.1->langchain_groq) (4.9.0)\n",
            "Requirement already satisfied: distro<2,>=1.7.0 in /usr/local/lib/python3.11/dist-packages (from groq<1,>=0.4.1->langchain_groq) (1.9.0)\n",
            "Requirement already satisfied: httpx<1,>=0.23.0 in /usr/local/lib/python3.11/dist-packages (from groq<1,>=0.4.1->langchain_groq) (0.28.1)\n",
            "Requirement already satisfied: sniffio in /usr/local/lib/python3.11/dist-packages (from groq<1,>=0.4.1->langchain_groq) (1.3.1)\n",
            "Requirement already satisfied: jsonpointer>=1.9 in /usr/local/lib/python3.11/dist-packages (from jsonpatch<2.0,>=1.33->langchain_core) (3.0.0)\n",
            "Requirement already satisfied: orjson<4.0.0,>=3.9.14 in /usr/local/lib/python3.11/dist-packages (from langsmith<0.4,>=0.1.17->langchain) (3.10.15)\n",
            "Requirement already satisfied: requests-toolbelt<2.0.0,>=1.0.0 in /usr/local/lib/python3.11/dist-packages (from langsmith<0.4,>=0.1.17->langchain) (1.0.0)\n",
            "Requirement already satisfied: zstandard<0.24.0,>=0.23.0 in /usr/local/lib/python3.11/dist-packages (from langsmith<0.4,>=0.1.17->langchain) (0.23.0)\n",
            "Requirement already satisfied: annotated-types>=0.6.0 in /usr/local/lib/python3.11/dist-packages (from pydantic<3.0.0,>=2.7.4->langchain) (0.7.0)\n",
            "Requirement already satisfied: pydantic-core==2.27.2 in /usr/local/lib/python3.11/dist-packages (from pydantic<3.0.0,>=2.7.4->langchain) (2.27.2)\n",
            "Requirement already satisfied: charset-normalizer<4,>=2 in /usr/local/lib/python3.11/dist-packages (from requests<3,>=2->langchain) (3.4.1)\n",
            "Requirement already satisfied: idna<4,>=2.5 in /usr/local/lib/python3.11/dist-packages (from requests<3,>=2->langchain) (3.10)\n",
            "Requirement already satisfied: urllib3<3,>=1.21.1 in /usr/local/lib/python3.11/dist-packages (from requests<3,>=2->langchain) (2.3.0)\n",
            "Requirement already satisfied: certifi>=2017.4.17 in /usr/local/lib/python3.11/dist-packages (from requests<3,>=2->langchain) (2025.1.31)\n",
            "Requirement already satisfied: greenlet!=0.4.17 in /usr/local/lib/python3.11/dist-packages (from SQLAlchemy<3,>=1.4->langchain) (3.1.1)\n",
            "Requirement already satisfied: httpcore==1.* in /usr/local/lib/python3.11/dist-packages (from httpx<1,>=0.23.0->groq<1,>=0.4.1->langchain_groq) (1.0.7)\n",
            "Requirement already satisfied: h11<0.15,>=0.13 in /usr/local/lib/python3.11/dist-packages (from httpcore==1.*->httpx<1,>=0.23.0->groq<1,>=0.4.1->langchain_groq) (0.14.0)\n",
            "Using cached langchain-0.3.21-py3-none-any.whl (1.0 MB)\n",
            "Using cached langchain_core-0.3.48-py3-none-any.whl (418 kB)\n",
            "Using cached langchain_groq-0.3.1-py3-none-any.whl (15 kB)\n",
            "Installing collected packages: langchain_core, langchain_groq, langchain\n",
            "Successfully installed langchain-0.3.21 langchain_core-0.3.48 langchain_groq-0.3.1\n"
          ]
        }
      ]
    },
    {
      "cell_type": "code",
      "source": [
        "from google.colab import userdata\n",
        "\n",
        "import os\n",
        "\n",
        "from langchain_groq import ChatGroq\n",
        "\n",
        "from getpass import getpass\n",
        "\n",
        "os.environ[\"GROQ_API_KEY\"] = getpass('LLMProjectKey1')\n",
        "\n",
        "from langchain.chat_models import init_chat_model\n",
        "\n",
        "llm_model = ChatGroq(model_name = \"llama-3.3-70b-versatile\", groq_api_key = os.environ[\"GROQ_API_KEY\"])"
      ],
      "metadata": {
        "colab": {
          "base_uri": "https://localhost:8080/"
        },
        "id": "chHZ6oMjvNiP",
        "outputId": "de7ccc1e-1eb8-44c1-d393-0b9b3a2d566e"
      },
      "execution_count": 5,
      "outputs": [
        {
          "name": "stdout",
          "output_type": "stream",
          "text": [
            "LLMProjectKey1··········\n"
          ]
        }
      ]
    },
    {
      "cell_type": "code",
      "source": [
        "llm_response = llm_model.invoke(\"What is LangChain and what is LangGraph?\")\n",
        "\n",
        "print(llm_response.content)"
      ],
      "metadata": {
        "colab": {
          "base_uri": "https://localhost:8080/"
        },
        "id": "MI3PQWsHxhKD",
        "outputId": "c389d74c-3e51-469f-8231-d2b692b17885"
      },
      "execution_count": 23,
      "outputs": [
        {
          "output_type": "stream",
          "name": "stdout",
          "text": [
            "LangChain and LangGraph are related concepts in the field of natural language processing (NLP) and artificial intelligence (AI), particularly in the context of large language models (LLMs) like those developed by Meta AI, Google, and other organizations.\n",
            "\n",
            "**LangChain:**\n",
            "LangChain is an open-source framework designed to simplify the development and deployment of applications that utilize large language models. It provides a set of tools and APIs that allow developers to build, test, and deploy LLM-based applications more efficiently. LangChain aims to make it easier for developers to integrate LLMs into their projects, enabling them to focus on building innovative applications rather than worrying about the underlying infrastructure.\n",
            "\n",
            "LangChain offers a range of features, including:\n",
            "\n",
            "1. Model serving: LangChain provides a simple way to serve and manage LLMs, allowing developers to focus on application development rather than model deployment.\n",
            "2. API gateway: LangChain includes an API gateway that enables developers to expose their LLM-based applications to the outside world.\n",
            "3. Data processing: LangChain offers tools for data processing, including data loading, preprocessing, and caching.\n",
            "4. Model fine-tuning: LangChain allows developers to fine-tune LLMs for specific tasks or applications.\n",
            "\n",
            "**LangGraph:**\n",
            "LangGraph is a knowledge graph-based framework that enables the creation of more advanced and context-aware large language models. A knowledge graph is a graphical representation of knowledge that stores entities, relationships, and concepts as nodes and edges. LangGraph uses this graph structure to represent the relationships between different pieces of knowledge, allowing LLMs to better understand the context and relationships between different concepts.\n",
            "\n",
            "LangGraph is designed to improve the performance and capabilities of LLMs by:\n",
            "\n",
            "1. Providing a more structured and organized representation of knowledge\n",
            "2. Enabling the creation of more accurate and informed models\n",
            "3. Allowing for more efficient and effective model fine-tuning\n",
            "4. Supporting the development of more advanced and context-aware applications\n",
            "\n",
            "In summary, LangChain is a framework for building and deploying LLM-based applications, while LangGraph is a knowledge graph-based framework for creating more advanced and context-aware LLMs. Both concepts are related to the development and application of large language models, but they serve different purposes and offer distinct benefits.\n"
          ]
        }
      ]
    },
    {
      "cell_type": "code",
      "source": [
        "customer_query_workflow = StateGraph(State)"
      ],
      "metadata": {
        "id": "RW293n8Q0d4G"
      },
      "execution_count": 27,
      "outputs": []
    },
    {
      "cell_type": "code",
      "source": [
        "def categorize_customer_query(state : State) -> State:\n",
        "\n",
        "  prompt = ChatPromptTemplate.from_template(\n",
        "\n",
        "      \"Categorize Customer Queries into the following categories \" \"Technical, Billing, General. Query : {query}\"\n",
        "\n",
        "      )\n",
        "\n",
        "  category_flow_chain = prompt | llm_model\n",
        "\n",
        "  category = category_flow_chain.invoke({\"query\" : state[\"query\"]}).content\n",
        "\n",
        "  print(f\"\\n Catgeory : {category}\")\n",
        "\n",
        "  return {**state, \"category\" : category}\n",
        "\n",
        "\n",
        "def analyze_sentiment_of_customer_query(state : State) -> State:\n",
        "\n",
        "  print(\"\\n Analyzing the sentiment : \")\n",
        "\n",
        "  prompt = ChatPromptTemplate.from_template(\n",
        "\n",
        "                                             \"Analyze the sentiment of the following customer query and answer in one word\"\n",
        "\n",
        "                                             \"Respond with either 'Positive', 'Neutral' or 'Negative'. Query : {query}\"\n",
        "\n",
        "  )\n",
        "\n",
        "  sentiment_flow_chain = prompt | llm_model\n",
        "\n",
        "  sentiment = sentiment_flow_chain.invoke({\"query\" : state[\"query\"]}).content\n",
        "\n",
        "  print(f\"/nSentiment : {sentiment}\")\n",
        "\n",
        "  return {**state, \"sentiment\" : sentiment}\n",
        "\n",
        "\n",
        "def handle_technical_customer_query(state: State) -> State:\n",
        "\n",
        "  print(\"\\n Handling Technical Query : \")\n",
        "\n",
        "  prompt = ChatPromptTemplate.from_template(\n",
        "\n",
        "                                            \"Provide technical assistance to the following customer query {query}\"\n",
        "  )\n",
        "\n",
        "  technical_support_flow_chain = prompt | llm_model\n",
        "\n",
        "  technical_response = technical_support_flow_chain.invoke({\"query\" : state[\"query\"]}).content\n",
        "\n",
        "  print(f\"\\n Technical response : {technical_response}\")\n",
        "\n",
        "  return{**state, \"Technical response\" : technical_response}\n",
        "\n",
        "\n",
        "def handle_billing_customer_query(state : State) -> State:\n",
        "\n",
        "  print(\"\\n Handling Billing Query : \")\n",
        "\n",
        "  prompt = ChatPromptTemplate.from_template(\n",
        "\n",
        "                                            \"Provide billing assistance to the following customer query {query}.\"\n",
        "  )\n",
        "\n",
        "  billing_flow_chain = prompt | llm_model\n",
        "\n",
        "  billing_response = billing_flow_chain.invoke({\"query\" : state[\"query\"]}).content\n",
        "\n",
        "  print(f\"\\n Billing response : {billing_response}\")\n",
        "\n",
        "  return {**state, \"Billing response \" :  billing_response}\n",
        "\n",
        "\n",
        "def handle_general_customer_query(state : State) -> State:\n",
        "\n",
        "  print(\"\\n Handling General Query : \")\n",
        "\n",
        "  prompt = ChatPromptTemplate.from_template(\n",
        "\n",
        "                                            \"Provide general assistance to the following general query {query} of customer.\"\n",
        "\n",
        "  )\n",
        "\n",
        "  general_query_flow_chain = prompt | llm_model\n",
        "\n",
        "  general_query_response = general_query_flow_chain.invoke({\"query\" : state[\"query\"]}).content\n",
        "\n",
        "  print(f\"\\n General query response : {general_query_response}\")\n",
        "\n",
        "  return{**state, \"General query respnse \" : general_query_response}\n",
        "\n",
        "\n",
        "def escalate_customer_query(state: State) -> State:\n",
        "\n",
        "  print(f\"\\n Escalating customer query\")\n",
        "\n",
        "  return {\"response\" : \"This customer query has been escalated to a human support specialist due to its negative sentiment\"}\n",
        "\n",
        "def route_customer_query(state: State) -> State:\n",
        "\n",
        "  if \"negative\" in state.get(\"sentiment\").lower():\n",
        "\n",
        "    return \"node_6_escalate_customer_query\"\n",
        "\n",
        "  elif state.get(\"category\") == \"Technical\":\n",
        "\n",
        "    return \"node_3_handle_technical_customer_query\"\n",
        "\n",
        "  elif state.get(\"category\") == \"Billing\":\n",
        "\n",
        "    return \"node_4_handle_billing_customer_query\"\n",
        "\n",
        "  else:\n",
        "\n",
        "    return \"node_5_handle_general_customer_query\""
      ],
      "metadata": {
        "id": "1CjqvvXf1mjY"
      },
      "execution_count": 24,
      "outputs": []
    },
    {
      "cell_type": "code",
      "source": [
        "#Defining the structure of the Graph\n",
        "\n",
        "if \"node_1_categorize_customer_query\" not in customer_query_workflow.nodes:\n",
        "\n",
        "  customer_query_workflow.add_node(\"node_1_categorize_customer_query\", categorize_customer_query)\n",
        "\n",
        "if \"node_2_analyze_sentiment_of_customer_query\" not in customer_query_workflow.nodes:\n",
        "\n",
        "  customer_query_workflow.add_node(\"node_2_analyze_sentiment_of_customer_query\", analyze_sentiment_of_customer_query)\n",
        "\n",
        "if \"node_3_handle_technical_customer_query\" not in customer_query_workflow.nodes:\n",
        "\n",
        "  customer_query_workflow.add_node(\"node_3_handle_technical_customer_query\", handle_technical_customer_query)\n",
        "\n",
        "if \"node_4_handle_billing_customer_query\" not in customer_query_workflow.nodes:\n",
        "\n",
        "  customer_query_workflow.add_node(\"node_4_handle_billing_customer_query\", handle_billing_customer_query)\n",
        "\n",
        "if \"node_5_handle_general_customer_query\" not in customer_query_workflow.nodes:\n",
        "\n",
        "  customer_query_workflow.add_node(\"node_5_handle_general_customer_query\", handle_general_customer_query)\n",
        "\n",
        "if \"node_6_escalate_customer_query\" not in customer_query_workflow.nodes:\n",
        "\n",
        "  customer_query_workflow.add_node(\"node_6_escalate_customer_query\", escalate_customer_query)\n",
        "\n",
        "if \"node_2_analyze_sentiment_of_customer_query\" not in customer_query_workflow.branches or \"route_customer_query\" not in customer_query_workflow.branches[\"node_2_analyze_sentiment_of_customer_query\"]:\n",
        "\n",
        "  customer_query_workflow.add_conditional_edges(\"node_2_analyze_sentiment_of_customer_query\", route_customer_query)\n",
        "\n",
        "customer_query_workflow.add_edge(\"node_1_categorize_customer_query\", \"node_2_analyze_sentiment_of_customer_query\")\n",
        "\n",
        "customer_query_workflow.add_edge(\"node_3_handle_technical_customer_query\", END)\n",
        "\n",
        "customer_query_workflow.add_edge(\"node_4_handle_billing_customer_query\", END)\n",
        "\n",
        "customer_query_workflow.add_edge(\"node_5_handle_general_customer_query\", END)\n",
        "\n",
        "customer_query_workflow.add_edge(\"node_6_escalate_customer_query\", END)\n",
        "\n",
        "customer_query_workflow.set_entry_point(\"node_1_categorize_customer_query\")\n",
        "\n",
        "customer_support_app = customer_query_workflow.compile()"
      ],
      "metadata": {
        "id": "I2pgodOp0JHB"
      },
      "execution_count": 9,
      "outputs": []
    },
    {
      "cell_type": "code",
      "source": [
        "#Displaying the defined graph based workflow\n",
        "\n",
        "from IPython.display import Image, display\n",
        "\n",
        "try:\n",
        "\n",
        "  display(Image(customer_support_app.get_graph().draw_mermaid_png()))\n",
        "\n",
        "except Exception:\n",
        "\n",
        "  pass"
      ],
      "metadata": {
        "id": "WjBWIgV1TdEF",
        "colab": {
          "base_uri": "https://localhost:8080/",
          "height": 403
        },
        "outputId": "39fa6928-7860-4867-fa66-238ed0f14df2"
      },
      "execution_count": 10,
      "outputs": [
        {
          "output_type": "display_data",
          "data": {
            "image/png": "[encoded data removed]",
            "text/plain": [
              "<IPython.core.display.Image object>"
            ]
          },
          "metadata": {}
        }
      ]
    },
    {
      "cell_type": "code",
      "source": [
        "def run_customer_support_workflow(query : str) -> Dict[str, str]:\n",
        "\n",
        "  issue_resolution = customer_support_app.invoke({\"query\": query})\n",
        "\n",
        "  response = issue_resolution.get('response', 'No specific response generated')\n",
        "\n",
        "  return {\n",
        "\n",
        "          \"category\" : issue_resolution['category'],\n",
        "\n",
        "          \"sentiment\" : issue_resolution['sentiment'],\n",
        "\n",
        "          \"response\"  : response\n",
        "  }"
      ],
      "metadata": {
        "id": "Ae9SvKLhBm9B"
      },
      "execution_count": 11,
      "outputs": []
    },
    {
      "cell_type": "code",
      "source": [
        "#Testing the customer query handling workflow\n",
        "\n",
        "customer_query = \"The total price mentioned in my invoice is incorrect\"\n",
        "\n",
        "issue_resolution = run_customer_support_workflow(customer_query)\n",
        "\n",
        "print(f\"Customer Query : {customer_query}\")\n",
        "\n",
        "print(f\"Category : {issue_resolution['category']}\")\n",
        "\n",
        "print(f\"Sentiment : {issue_resolution['sentiment']}\")\n",
        "\n",
        "print(f\"Response : {issue_resolution['response']}\")"
      ],
      "metadata": {
        "id": "HeWQ8jqMKxQN",
        "colab": {
          "base_uri": "https://localhost:8080/"
        },
        "outputId": "340a7af5-3f07-4494-f3c5-643de1a2c40e"
      },
      "execution_count": 15,
      "outputs": [
        {
          "output_type": "stream",
          "name": "stdout",
          "text": [
            "\n",
            " Catgeory : The query \"The total price mentioned in my invoice is incorrect\" would fall under the category of \"Billing\".\n",
            "\n",
            " Analyzing the sentiment : \n",
            "/nSentiment : Negative.\n",
            "\n",
            " Escalating customer query\n",
            "Customer Query : The total price mentioned in my invoice is incorrect\n",
            "Category : The query \"The total price mentioned in my invoice is incorrect\" would fall under the category of \"Billing\".\n",
            "Sentiment : Negative.\n",
            "Response : This customer query has been escalated to a human support specialist due to its negative sentiment\n"
          ]
        }
      ]
    },
    {
      "cell_type": "code",
      "source": [
        "#Testing the customer query handling workflow\n",
        "\n",
        "customer_query = \"I want to know when the new Android version will be launched.\"\n",
        "\n",
        "issue_resolution = run_customer_support_workflow(customer_query)\n",
        "\n",
        "print(f\"Customer Query : {customer_query}\")\n",
        "\n",
        "print(f\"Category : {issue_resolution['category']}\")\n",
        "\n",
        "print(f\"Sentiment : {issue_resolution['sentiment']}\")\n",
        "\n",
        "print(f\"Response : {issue_resolution['response']}\")"
      ],
      "metadata": {
        "colab": {
          "base_uri": "https://localhost:8080/"
        },
        "outputId": "87efcd60-7fb9-4e30-cf72-521b032c1433",
        "id": "jpBn8VHfyGlD"
      },
      "execution_count": 16,
      "outputs": [
        {
          "output_type": "stream",
          "name": "stdout",
          "text": [
            "\n",
            " Catgeory : The query \"I want to know when the new Android version will be launched\" can be categorized as **General**. \n",
            "\n",
            "This query is not technical in nature as it doesn't involve a specific technical issue, nor is it related to billing. It's a general inquiry about the launch of a new Android version, which falls under general information or product-related queries.\n",
            "\n",
            " Analyzing the sentiment : \n",
            "/nSentiment : Neutral.\n",
            "\n",
            " Handling General Query : \n",
            "\n",
            " General query response : You're excited to know about the latest Android version. Google typically releases a new version of Android every year, around August or September. However, the exact release date has not been officially announced by Google yet.\n",
            "\n",
            "Here are a few things we know so far:\n",
            "\n",
            "1. **Android 14**: The next version of Android is expected to be Android 14, which is currently in the beta testing phase. Google has released several beta versions, and the final version is expected to be released later this year.\n",
            "2. **Release timeline**: Based on previous years' trends, we can expect the final version of Android 14 to be released around August or September 2023. However, this is just a rough estimate, and the actual release date may vary.\n",
            "3. **New features**: Android 14 is expected to bring several new features, including improved performance, enhanced security, and new customization options. Some of the rumored features include a new notification system, improved multitasking, and enhanced AI-powered capabilities.\n",
            "4. **Device compatibility**: Android 14 will likely be compatible with a wide range of devices, including Google Pixel phones, Samsung Galaxy series, OnePlus devices, and other Android smartphones.\n",
            "\n",
            "To stay up-to-date with the latest news and announcements about Android 14, I recommend following Google's official blog or social media channels. You can also check out tech websites and blogs, such as Android Authority, The Verge, or CNET, which often provide detailed coverage of Android updates and releases.\n",
            "\n",
            "I hope this information helps! Let me know if you have any other questions.\n",
            "Customer Query : I want to know when the new Android version will be launched.\n",
            "Category : The query \"I want to know when the new Android version will be launched\" can be categorized as **General**. \n",
            "\n",
            "This query is not technical in nature as it doesn't involve a specific technical issue, nor is it related to billing. It's a general inquiry about the launch of a new Android version, which falls under general information or product-related queries.\n",
            "Sentiment : Neutral.\n",
            "Response : No specific response generated\n"
          ]
        }
      ]
    },
    {
      "cell_type": "code",
      "source": [
        "#Testing the customer query handling workflow\n",
        "\n",
        "customer_query = \"I like the services provided by your bank and I would like open a savings account\"\n",
        "\n",
        "issue_resolution = run_customer_support_workflow(customer_query)\n",
        "\n",
        "print(f\"Customer Query : {customer_query}\")\n",
        "\n",
        "print(f\"Category : {issue_resolution['category']}\")\n",
        "\n",
        "print(f\"Sentiment : {issue_resolution['sentiment']}\")\n",
        "\n",
        "print(f\"Response : {issue_resolution['response']}\")"
      ],
      "metadata": {
        "colab": {
          "base_uri": "https://localhost:8080/"
        },
        "id": "ygAy39Y7yV-X",
        "outputId": "5637e8d1-e13a-4824-ff15-ef1da279804d"
      },
      "execution_count": 17,
      "outputs": [
        {
          "output_type": "stream",
          "name": "stdout",
          "text": [
            "\n",
            " Catgeory : The customer query \"I like the services provided by your bank and I would like to open a savings account\" can be categorized as:\n",
            "\n",
            "**General**\n",
            "\n",
            "This query is general in nature as it expresses a customer's interest in opening a new account and does not require technical expertise or involve a billing issue. It is an inquiry about a general service offered by the bank.\n",
            "\n",
            " Analyzing the sentiment : \n",
            "/nSentiment : Positive.\n",
            "\n",
            " Handling General Query : \n",
            "\n",
            " General query response : To open a savings account with our bank, you'll need to provide some personal and identification information. Here's a step-by-step guide to help you get started:\n",
            "\n",
            "**Required Documents:**\n",
            "\n",
            "1. **Valid Government-issued ID**: Such as a passport, driver's license, or state ID.\n",
            "2. **Proof of Address**: A utility bill, lease agreement, or any other document that shows your current address.\n",
            "3. **Social Security Number or Tax ID Number**: This is required for tax purposes and to comply with banking regulations.\n",
            "\n",
            "**Account Options:**\n",
            "\n",
            "We offer various savings account options to suit your needs. You can choose from:\n",
            "\n",
            "1. **Basic Savings Account**: A straightforward account with a low minimum balance requirement.\n",
            "2. **High-Yield Savings Account**: Earn a higher interest rate on your deposits.\n",
            "3. **Youth Savings Account**: A savings account designed for minors, with features like parental controls and education resources.\n",
            "4. **Senior Savings Account**: A savings account with special benefits and discounts for seniors.\n",
            "\n",
            "**How to Open an Account:**\n",
            "\n",
            "You can open a savings account with us in the following ways:\n",
            "\n",
            "1. **Online**: Visit our website and fill out the online application form. You'll need to upload your identification documents and provide your personal details.\n",
            "2. **In-Person**: Visit one of our branch locations and speak with a bank representative. They'll guide you through the account opening process.\n",
            "3. **Phone**: Call our customer service number, and a representative will assist you with opening an account over the phone.\n",
            "\n",
            "**Next Steps:**\n",
            "\n",
            "Once you've submitted your application, we'll review your information and verify your identity. This may take a few days. Once your account is approved, you'll receive:\n",
            "\n",
            "1. **Account Details**: Your account number, routing number, and other important details.\n",
            "2. **Debit Card**: A debit card will be mailed to you, which you can use to access your account.\n",
            "3. **Online Banking**: You'll have access to our online banking platform, where you can manage your account, transfer funds, and monitor your transactions.\n",
            "\n",
            "If you have any questions or need assistance during the account opening process, please don't hesitate to contact us. We're here to help!\n",
            "\n",
            "How would you like to proceed with opening your savings account? Would you like to apply online, visit a branch, or call our customer service number?\n",
            "Customer Query : I like the services provided by your bank and I would like open a savings account\n",
            "Category : The customer query \"I like the services provided by your bank and I would like to open a savings account\" can be categorized as:\n",
            "\n",
            "**General**\n",
            "\n",
            "This query is general in nature as it expresses a customer's interest in opening a new account and does not require technical expertise or involve a billing issue. It is an inquiry about a general service offered by the bank.\n",
            "Sentiment : Positive.\n",
            "Response : No specific response generated\n"
          ]
        }
      ]
    },
    {
      "cell_type": "code",
      "source": [
        "#Testing the customer query handling workflow\n",
        "\n",
        "customer_query = \"Your mobile application has so many bugs, and it keeps crashing, please look into the concern and fix it as soon as possible!\"\n",
        "\n",
        "issue_resolution = run_customer_support_workflow(customer_query)\n",
        "\n",
        "print(f\"Customer Query : {customer_query}\")\n",
        "\n",
        "print(f\"Category : {issue_resolution['category']}\")\n",
        "\n",
        "print(f\"Sentiment : {issue_resolution['sentiment']}\")\n",
        "\n",
        "print(f\"Response : {issue_resolution['response']}\")"
      ],
      "metadata": {
        "colab": {
          "base_uri": "https://localhost:8080/"
        },
        "id": "jcVCw2ASyu_1",
        "outputId": "334e79b4-bd3d-4b98-a719-f8cffdc2ee88"
      },
      "execution_count": 18,
      "outputs": [
        {
          "output_type": "stream",
          "name": "stdout",
          "text": [
            "\n",
            " Catgeory : The customer query can be categorized as: **Technical**\n",
            "\n",
            "Reason: The query mentions a specific issue with the mobile application, such as bugs and crashing, which falls under technical problems that require attention from the technical support team.\n",
            "\n",
            " Analyzing the sentiment : \n",
            "/nSentiment : Negative.\n",
            "\n",
            " Escalating customer query\n",
            "Customer Query : Your mobile application has so many bugs, and it keeps crashing, please look into the concern and fix it as soon as possible!\n",
            "Category : The customer query can be categorized as: **Technical**\n",
            "\n",
            "Reason: The query mentions a specific issue with the mobile application, such as bugs and crashing, which falls under technical problems that require attention from the technical support team.\n",
            "Sentiment : Negative.\n",
            "Response : This customer query has been escalated to a human support specialist due to its negative sentiment\n"
          ]
        }
      ]
    },
    {
      "cell_type": "code",
      "source": [],
      "metadata": {
        "id": "xUmIZiK4jgxw"
      },
      "execution_count": null,
      "outputs": []
    }
  ]
}